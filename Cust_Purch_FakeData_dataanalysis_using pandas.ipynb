{
 "cells": [
  {
   "cell_type": "code",
   "execution_count": 1,
   "id": "4ba7f7fd-caca-4caa-9a9f-e2ab5108cfef",
   "metadata": {},
   "outputs": [],
   "source": [
    "import pandas as pd\n",
    "import numpy as np"
   ]
  },
  {
   "cell_type": "code",
   "execution_count": 7,
   "id": "453902fc-3bfa-4794-8665-aaa5e127b385",
   "metadata": {},
   "outputs": [],
   "source": [
    "df = pd.read_csv(\"Cust_Purch_FakeData.csv\")"
   ]
  },
  {
   "cell_type": "code",
   "execution_count": 8,
   "id": "ac1266a8-8116-4d87-8ccc-ae60b97507ed",
   "metadata": {},
   "outputs": [
    {
     "data": {
      "text/html": [
       "<div>\n",
       "<style scoped>\n",
       "    .dataframe tbody tr th:only-of-type {\n",
       "        vertical-align: middle;\n",
       "    }\n",
       "\n",
       "    .dataframe tbody tr th {\n",
       "        vertical-align: top;\n",
       "    }\n",
       "\n",
       "    .dataframe thead th {\n",
       "        text-align: right;\n",
       "    }\n",
       "</style>\n",
       "<table border=\"1\" class=\"dataframe\">\n",
       "  <thead>\n",
       "    <tr style=\"text-align: right;\">\n",
       "      <th></th>\n",
       "      <th>prefix</th>\n",
       "      <th>first</th>\n",
       "      <th>last</th>\n",
       "      <th>email</th>\n",
       "      <th>gender</th>\n",
       "      <th>age</th>\n",
       "      <th>company</th>\n",
       "      <th>profession</th>\n",
       "      <th>phone</th>\n",
       "      <th>postal</th>\n",
       "      <th>province</th>\n",
       "      <th>cc_no</th>\n",
       "      <th>cc_exp</th>\n",
       "      <th>cc_type</th>\n",
       "      <th>price(CAD)</th>\n",
       "      <th>fav_color</th>\n",
       "      <th>ip</th>\n",
       "      <th>weekday</th>\n",
       "      <th>ampm</th>\n",
       "      <th>date</th>\n",
       "    </tr>\n",
       "  </thead>\n",
       "  <tbody>\n",
       "    <tr>\n",
       "      <th>0</th>\n",
       "      <td>Dr.</td>\n",
       "      <td>Ray</td>\n",
       "      <td>Morton</td>\n",
       "      <td>sebvajom@kol.km</td>\n",
       "      <td>Male</td>\n",
       "      <td>38</td>\n",
       "      <td>Medtronic Inc.</td>\n",
       "      <td>Health Therapist</td>\n",
       "      <td>(987) 619-2695</td>\n",
       "      <td>B6V 3W3</td>\n",
       "      <td>MB</td>\n",
       "      <td>5020000000000230</td>\n",
       "      <td>05/2018</td>\n",
       "      <td>Solo</td>\n",
       "      <td>8.36</td>\n",
       "      <td>Blue</td>\n",
       "      <td>126.23.139.2</td>\n",
       "      <td>Sunday</td>\n",
       "      <td>pm</td>\n",
       "      <td>04/05/1930</td>\n",
       "    </tr>\n",
       "    <tr>\n",
       "      <th>1</th>\n",
       "      <td>Miss</td>\n",
       "      <td>Claudia</td>\n",
       "      <td>Rodriquez</td>\n",
       "      <td>acu@jatsot.ug</td>\n",
       "      <td>Female</td>\n",
       "      <td>51</td>\n",
       "      <td>Ames Department Stores, Inc.</td>\n",
       "      <td>Health Therapist</td>\n",
       "      <td>(356) 736-7352</td>\n",
       "      <td>G7M 5F3</td>\n",
       "      <td>SK</td>\n",
       "      <td>5020000000000230</td>\n",
       "      <td>07/2028</td>\n",
       "      <td>Visa</td>\n",
       "      <td>68.31</td>\n",
       "      <td>Black</td>\n",
       "      <td>106.198.76.211</td>\n",
       "      <td>Tuesday</td>\n",
       "      <td>am</td>\n",
       "      <td>12/20/1926</td>\n",
       "    </tr>\n",
       "    <tr>\n",
       "      <th>2</th>\n",
       "      <td>Miss</td>\n",
       "      <td>Harry</td>\n",
       "      <td>Meyer</td>\n",
       "      <td>zuz@lo.wf</td>\n",
       "      <td>Female</td>\n",
       "      <td>51</td>\n",
       "      <td>CSX Corp.</td>\n",
       "      <td>Political Scientist</td>\n",
       "      <td>(539) 246-1806</td>\n",
       "      <td>A0Z 6P9</td>\n",
       "      <td>NS</td>\n",
       "      <td>6300000000000000</td>\n",
       "      <td>02/2023</td>\n",
       "      <td>Switch</td>\n",
       "      <td>34.65</td>\n",
       "      <td>Black</td>\n",
       "      <td>186.150.187.29</td>\n",
       "      <td>Wednesday</td>\n",
       "      <td>pm</td>\n",
       "      <td>08/20/1931</td>\n",
       "    </tr>\n",
       "    <tr>\n",
       "      <th>3</th>\n",
       "      <td>Miss</td>\n",
       "      <td>Edith</td>\n",
       "      <td>Gilbert</td>\n",
       "      <td>hansohsi@jupec.md</td>\n",
       "      <td>Female</td>\n",
       "      <td>55</td>\n",
       "      <td>Murphy Oil Corporation</td>\n",
       "      <td>Transportation Manager</td>\n",
       "      <td>(984) 962-7494</td>\n",
       "      <td>P9I 9H3</td>\n",
       "      <td>YT</td>\n",
       "      <td>3530000000000000</td>\n",
       "      <td>02/2028</td>\n",
       "      <td>Maestro</td>\n",
       "      <td>64.59</td>\n",
       "      <td>White</td>\n",
       "      <td>80.140.57.161</td>\n",
       "      <td>Saturday</td>\n",
       "      <td>am</td>\n",
       "      <td>06/18/2001</td>\n",
       "    </tr>\n",
       "    <tr>\n",
       "      <th>4</th>\n",
       "      <td>Dr.</td>\n",
       "      <td>Lura</td>\n",
       "      <td>Murphy</td>\n",
       "      <td>webediti@je.st</td>\n",
       "      <td>Female</td>\n",
       "      <td>20</td>\n",
       "      <td>PETsMART Inc</td>\n",
       "      <td>Statistician</td>\n",
       "      <td>(902) 568-9748</td>\n",
       "      <td>S1A 6K0</td>\n",
       "      <td>ON</td>\n",
       "      <td>4030000000000000</td>\n",
       "      <td>10/2025</td>\n",
       "      <td>Diners Club International</td>\n",
       "      <td>20.83</td>\n",
       "      <td>Yellow</td>\n",
       "      <td>211.103.43.41</td>\n",
       "      <td>Friday</td>\n",
       "      <td>pm</td>\n",
       "      <td>06/14/2045</td>\n",
       "    </tr>\n",
       "    <tr>\n",
       "      <th>...</th>\n",
       "      <td>...</td>\n",
       "      <td>...</td>\n",
       "      <td>...</td>\n",
       "      <td>...</td>\n",
       "      <td>...</td>\n",
       "      <td>...</td>\n",
       "      <td>...</td>\n",
       "      <td>...</td>\n",
       "      <td>...</td>\n",
       "      <td>...</td>\n",
       "      <td>...</td>\n",
       "      <td>...</td>\n",
       "      <td>...</td>\n",
       "      <td>...</td>\n",
       "      <td>...</td>\n",
       "      <td>...</td>\n",
       "      <td>...</td>\n",
       "      <td>...</td>\n",
       "      <td>...</td>\n",
       "      <td>...</td>\n",
       "    </tr>\n",
       "    <tr>\n",
       "      <th>29995</th>\n",
       "      <td>Mr.</td>\n",
       "      <td>John</td>\n",
       "      <td>Maxwell</td>\n",
       "      <td>larlisu@sejenu.ad</td>\n",
       "      <td>Female</td>\n",
       "      <td>38</td>\n",
       "      <td>Spherion Corp</td>\n",
       "      <td>Publishing Director</td>\n",
       "      <td>(873) 298-1178</td>\n",
       "      <td>V4U 0X2</td>\n",
       "      <td>YT</td>\n",
       "      <td>6330000000000000</td>\n",
       "      <td>04/2028</td>\n",
       "      <td>Visa Electron</td>\n",
       "      <td>90.37</td>\n",
       "      <td>Red</td>\n",
       "      <td>194.14.119.109</td>\n",
       "      <td>Sunday</td>\n",
       "      <td>am</td>\n",
       "      <td>04/18/2014</td>\n",
       "    </tr>\n",
       "    <tr>\n",
       "      <th>29996</th>\n",
       "      <td>Dr.</td>\n",
       "      <td>Alfred</td>\n",
       "      <td>Bass</td>\n",
       "      <td>le@duridzo.gh</td>\n",
       "      <td>Female</td>\n",
       "      <td>24</td>\n",
       "      <td>Ford Motor Co</td>\n",
       "      <td>Diamond Merchant</td>\n",
       "      <td>(541) 904-3323</td>\n",
       "      <td>T9O 1H6</td>\n",
       "      <td>PE</td>\n",
       "      <td>201000000000000</td>\n",
       "      <td>12/2026</td>\n",
       "      <td>American Express</td>\n",
       "      <td>5.94</td>\n",
       "      <td>White</td>\n",
       "      <td>154.114.74.254</td>\n",
       "      <td>Sunday</td>\n",
       "      <td>pm</td>\n",
       "      <td>09/27/2068</td>\n",
       "    </tr>\n",
       "    <tr>\n",
       "      <th>29997</th>\n",
       "      <td>Mrs.</td>\n",
       "      <td>Edward</td>\n",
       "      <td>Curtis</td>\n",
       "      <td>ta@kucemah.et</td>\n",
       "      <td>Female</td>\n",
       "      <td>56</td>\n",
       "      <td>Park Place Entertainment Corp</td>\n",
       "      <td>Executive Director</td>\n",
       "      <td>(375) 931-8605</td>\n",
       "      <td>X5Z 4E1</td>\n",
       "      <td>QC</td>\n",
       "      <td>201000000000000</td>\n",
       "      <td>06/2021</td>\n",
       "      <td>Maestro</td>\n",
       "      <td>65.66</td>\n",
       "      <td>Black</td>\n",
       "      <td>188.0.106.220</td>\n",
       "      <td>Monday</td>\n",
       "      <td>pm</td>\n",
       "      <td>09/07/1997</td>\n",
       "    </tr>\n",
       "    <tr>\n",
       "      <th>29998</th>\n",
       "      <td>Mr.</td>\n",
       "      <td>Max</td>\n",
       "      <td>Woods</td>\n",
       "      <td>li@mincoz.mp</td>\n",
       "      <td>Female</td>\n",
       "      <td>64</td>\n",
       "      <td>Nacco Industries Inc</td>\n",
       "      <td>University Administrator</td>\n",
       "      <td>(786) 481-9627</td>\n",
       "      <td>G0S 9Q8</td>\n",
       "      <td>NS</td>\n",
       "      <td>30000000000000</td>\n",
       "      <td>08/2023</td>\n",
       "      <td>Solo</td>\n",
       "      <td>52.66</td>\n",
       "      <td>Black</td>\n",
       "      <td>129.168.247.27</td>\n",
       "      <td>Monday</td>\n",
       "      <td>pm</td>\n",
       "      <td>09/08/1938</td>\n",
       "    </tr>\n",
       "    <tr>\n",
       "      <th>29999</th>\n",
       "      <td>Mr.</td>\n",
       "      <td>Olga</td>\n",
       "      <td>Rodriguez</td>\n",
       "      <td>ner@ota.ec</td>\n",
       "      <td>Male</td>\n",
       "      <td>22</td>\n",
       "      <td>Texas Industries Inc.</td>\n",
       "      <td>Leasing Manager</td>\n",
       "      <td>(841) 962-4087</td>\n",
       "      <td>N2D 5K3</td>\n",
       "      <td>BC</td>\n",
       "      <td>6300000000000000</td>\n",
       "      <td>05/2024</td>\n",
       "      <td>InstaPayment</td>\n",
       "      <td>17.71</td>\n",
       "      <td>Yellow</td>\n",
       "      <td>70.2.107.65</td>\n",
       "      <td>Wednesday</td>\n",
       "      <td>am</td>\n",
       "      <td>06/22/1956</td>\n",
       "    </tr>\n",
       "  </tbody>\n",
       "</table>\n",
       "<p>30000 rows × 20 columns</p>\n",
       "</div>"
      ],
      "text/plain": [
       "      prefix    first       last              email  gender  age  \\\n",
       "0        Dr.      Ray     Morton    sebvajom@kol.km    Male   38   \n",
       "1       Miss  Claudia  Rodriquez      acu@jatsot.ug  Female   51   \n",
       "2       Miss    Harry      Meyer          zuz@lo.wf  Female   51   \n",
       "3       Miss    Edith    Gilbert  hansohsi@jupec.md  Female   55   \n",
       "4        Dr.     Lura     Murphy     webediti@je.st  Female   20   \n",
       "...      ...      ...        ...                ...     ...  ...   \n",
       "29995    Mr.     John    Maxwell  larlisu@sejenu.ad  Female   38   \n",
       "29996    Dr.   Alfred       Bass      le@duridzo.gh  Female   24   \n",
       "29997   Mrs.   Edward     Curtis      ta@kucemah.et  Female   56   \n",
       "29998    Mr.      Max      Woods       li@mincoz.mp  Female   64   \n",
       "29999    Mr.     Olga  Rodriguez         ner@ota.ec    Male   22   \n",
       "\n",
       "                             company                profession  \\\n",
       "0                     Medtronic Inc.          Health Therapist   \n",
       "1       Ames Department Stores, Inc.          Health Therapist   \n",
       "2                          CSX Corp.       Political Scientist   \n",
       "3             Murphy Oil Corporation    Transportation Manager   \n",
       "4                       PETsMART Inc              Statistician   \n",
       "...                              ...                       ...   \n",
       "29995                  Spherion Corp       Publishing Director   \n",
       "29996                  Ford Motor Co          Diamond Merchant   \n",
       "29997  Park Place Entertainment Corp        Executive Director   \n",
       "29998           Nacco Industries Inc  University Administrator   \n",
       "29999          Texas Industries Inc.           Leasing Manager   \n",
       "\n",
       "                phone   postal province             cc_no   cc_exp  \\\n",
       "0      (987) 619-2695  B6V 3W3       MB  5020000000000230  05/2018   \n",
       "1      (356) 736-7352  G7M 5F3       SK  5020000000000230  07/2028   \n",
       "2      (539) 246-1806  A0Z 6P9       NS  6300000000000000  02/2023   \n",
       "3      (984) 962-7494  P9I 9H3       YT  3530000000000000  02/2028   \n",
       "4      (902) 568-9748  S1A 6K0       ON  4030000000000000  10/2025   \n",
       "...               ...      ...      ...               ...      ...   \n",
       "29995  (873) 298-1178  V4U 0X2       YT  6330000000000000  04/2028   \n",
       "29996  (541) 904-3323  T9O 1H6       PE   201000000000000  12/2026   \n",
       "29997  (375) 931-8605  X5Z 4E1       QC   201000000000000  06/2021   \n",
       "29998  (786) 481-9627  G0S 9Q8       NS    30000000000000  08/2023   \n",
       "29999  (841) 962-4087  N2D 5K3       BC  6300000000000000  05/2024   \n",
       "\n",
       "                         cc_type  price(CAD) fav_color              ip  \\\n",
       "0                           Solo        8.36      Blue    126.23.139.2   \n",
       "1                           Visa       68.31     Black  106.198.76.211   \n",
       "2                         Switch       34.65     Black  186.150.187.29   \n",
       "3                        Maestro       64.59     White   80.140.57.161   \n",
       "4      Diners Club International       20.83    Yellow   211.103.43.41   \n",
       "...                          ...         ...       ...             ...   \n",
       "29995              Visa Electron       90.37       Red  194.14.119.109   \n",
       "29996           American Express        5.94     White  154.114.74.254   \n",
       "29997                    Maestro       65.66     Black   188.0.106.220   \n",
       "29998                       Solo       52.66     Black  129.168.247.27   \n",
       "29999               InstaPayment       17.71    Yellow     70.2.107.65   \n",
       "\n",
       "         weekday ampm        date  \n",
       "0         Sunday   pm  04/05/1930  \n",
       "1        Tuesday   am  12/20/1926  \n",
       "2      Wednesday   pm  08/20/1931  \n",
       "3       Saturday   am  06/18/2001  \n",
       "4         Friday   pm  06/14/2045  \n",
       "...          ...  ...         ...  \n",
       "29995     Sunday   am  04/18/2014  \n",
       "29996     Sunday   pm  09/27/2068  \n",
       "29997     Monday   pm  09/07/1997  \n",
       "29998     Monday   pm  09/08/1938  \n",
       "29999  Wednesday   am  06/22/1956  \n",
       "\n",
       "[30000 rows x 20 columns]"
      ]
     },
     "execution_count": 8,
     "metadata": {},
     "output_type": "execute_result"
    }
   ],
   "source": [
    "df"
   ]
  },
  {
   "cell_type": "code",
   "execution_count": 4,
   "id": "61f7e823-a257-4bdc-bb76-104a2ceb70c6",
   "metadata": {},
   "outputs": [
    {
     "name": "stdout",
     "output_type": "stream",
     "text": [
      "<class 'pandas.core.frame.DataFrame'>\n",
      "RangeIndex: 30000 entries, 0 to 29999\n",
      "Data columns (total 20 columns):\n",
      " #   Column      Non-Null Count  Dtype  \n",
      "---  ------      --------------  -----  \n",
      " 0   prefix      30000 non-null  object \n",
      " 1   first       30000 non-null  object \n",
      " 2   last        30000 non-null  object \n",
      " 3   email       30000 non-null  object \n",
      " 4   gender      30000 non-null  object \n",
      " 5   age         30000 non-null  int64  \n",
      " 6   company     30000 non-null  object \n",
      " 7   profession  30000 non-null  object \n",
      " 8   phone       30000 non-null  object \n",
      " 9   postal      30000 non-null  object \n",
      " 10  province    30000 non-null  object \n",
      " 11  cc_no       30000 non-null  int64  \n",
      " 12  cc_exp      30000 non-null  object \n",
      " 13  cc_type     30000 non-null  object \n",
      " 14  price(CAD)  30000 non-null  float64\n",
      " 15  fav_color   30000 non-null  object \n",
      " 16  ip          30000 non-null  object \n",
      " 17  weekday     30000 non-null  object \n",
      " 18  ampm        30000 non-null  object \n",
      " 19  date        30000 non-null  object \n",
      "dtypes: float64(1), int64(2), object(17)\n",
      "memory usage: 4.6+ MB\n"
     ]
    }
   ],
   "source": [
    "df.info()"
   ]
  },
  {
   "cell_type": "code",
   "execution_count": 5,
   "id": "8bf78bea-6b97-4120-bf25-f7240d520b1a",
   "metadata": {},
   "outputs": [
    {
     "data": {
      "text/plain": [
       "Index(['prefix', 'first', 'last', 'email', 'gender', 'age', 'company',\n",
       "       'profession', 'phone', 'postal', 'province', 'cc_no', 'cc_exp',\n",
       "       'cc_type', 'price(CAD)', 'fav_color', 'ip', 'weekday', 'ampm', 'date'],\n",
       "      dtype='object')"
      ]
     },
     "execution_count": 5,
     "metadata": {},
     "output_type": "execute_result"
    }
   ],
   "source": [
    "df.columns"
   ]
  },
  {
   "cell_type": "code",
   "execution_count": 6,
   "id": "fb4f230c-a0b1-481e-bac1-2c55d20b695f",
   "metadata": {},
   "outputs": [
    {
     "data": {
      "text/plain": [
       "65"
      ]
     },
     "execution_count": 6,
     "metadata": {},
     "output_type": "execute_result"
    }
   ],
   "source": [
    "df['age'].max()"
   ]
  },
  {
   "cell_type": "code",
   "execution_count": 7,
   "id": "a2e934a4-bba8-4f6c-accb-724554efd9e7",
   "metadata": {},
   "outputs": [
    {
     "data": {
      "text/plain": [
       "18"
      ]
     },
     "execution_count": 7,
     "metadata": {},
     "output_type": "execute_result"
    }
   ],
   "source": [
    "df['age'].min()"
   ]
  },
  {
   "cell_type": "code",
   "execution_count": 8,
   "id": "d6ab48e3-49a3-4a04-bd86-7a5fc529da5a",
   "metadata": {},
   "outputs": [
    {
     "data": {
      "text/plain": [
       "41.550066666666666"
      ]
     },
     "execution_count": 8,
     "metadata": {},
     "output_type": "execute_result"
    }
   ],
   "source": [
    "df['age'].mean()"
   ]
  },
  {
   "cell_type": "code",
   "execution_count": 11,
   "id": "dd801066-78de-455f-8bd2-cf03338ea893",
   "metadata": {},
   "outputs": [
    {
     "data": {
      "text/plain": [
       "first\n",
       "Willie     130\n",
       "Francis    124\n",
       "Eula        86\n",
       "Name: count, dtype: int64"
      ]
     },
     "execution_count": 11,
     "metadata": {},
     "output_type": "execute_result"
    }
   ],
   "source": [
    "df['first'].value_counts().head(3)"
   ]
  },
  {
   "cell_type": "code",
   "execution_count": 14,
   "id": "57ead9b2-a42f-48f6-9438-32237b466f85",
   "metadata": {},
   "outputs": [
    {
     "data": {
      "text/plain": [
       "phone\n",
       "(263) 382-8004    2\n",
       "Name: count, dtype: int64"
      ]
     },
     "execution_count": 14,
     "metadata": {},
     "output_type": "execute_result"
    }
   ],
   "source": [
    "df['phone'].value_counts().head(1)"
   ]
  },
  {
   "cell_type": "code",
   "execution_count": 9,
   "id": "741e435f-982a-4020-988b-a0608a95c394",
   "metadata": {},
   "outputs": [
    {
     "data": {
      "text/html": [
       "<div>\n",
       "<style scoped>\n",
       "    .dataframe tbody tr th:only-of-type {\n",
       "        vertical-align: middle;\n",
       "    }\n",
       "\n",
       "    .dataframe tbody tr th {\n",
       "        vertical-align: top;\n",
       "    }\n",
       "\n",
       "    .dataframe thead th {\n",
       "        text-align: right;\n",
       "    }\n",
       "</style>\n",
       "<table border=\"1\" class=\"dataframe\">\n",
       "  <thead>\n",
       "    <tr style=\"text-align: right;\">\n",
       "      <th></th>\n",
       "      <th>prefix</th>\n",
       "      <th>first</th>\n",
       "      <th>last</th>\n",
       "      <th>email</th>\n",
       "      <th>gender</th>\n",
       "      <th>age</th>\n",
       "      <th>company</th>\n",
       "      <th>profession</th>\n",
       "      <th>phone</th>\n",
       "      <th>postal</th>\n",
       "      <th>province</th>\n",
       "      <th>cc_no</th>\n",
       "      <th>cc_exp</th>\n",
       "      <th>cc_type</th>\n",
       "      <th>price(CAD)</th>\n",
       "      <th>fav_color</th>\n",
       "      <th>ip</th>\n",
       "      <th>weekday</th>\n",
       "      <th>ampm</th>\n",
       "      <th>date</th>\n",
       "    </tr>\n",
       "  </thead>\n",
       "  <tbody>\n",
       "    <tr>\n",
       "      <th>0</th>\n",
       "      <td>Dr.</td>\n",
       "      <td>Ray</td>\n",
       "      <td>Morton</td>\n",
       "      <td>sebvajom@kol.km</td>\n",
       "      <td>Male</td>\n",
       "      <td>38</td>\n",
       "      <td>Medtronic Inc.</td>\n",
       "      <td>Health Therapist</td>\n",
       "      <td>(987) 619-2695</td>\n",
       "      <td>B6V 3W3</td>\n",
       "      <td>MB</td>\n",
       "      <td>5020000000000230</td>\n",
       "      <td>05/2018</td>\n",
       "      <td>Solo</td>\n",
       "      <td>8.36</td>\n",
       "      <td>Blue</td>\n",
       "      <td>126.23.139.2</td>\n",
       "      <td>Sunday</td>\n",
       "      <td>pm</td>\n",
       "      <td>04/05/1930</td>\n",
       "    </tr>\n",
       "  </tbody>\n",
       "</table>\n",
       "</div>"
      ],
      "text/plain": [
       "  prefix first    last            email gender  age         company  \\\n",
       "0    Dr.   Ray  Morton  sebvajom@kol.km   Male   38  Medtronic Inc.   \n",
       "\n",
       "         profession           phone   postal province             cc_no  \\\n",
       "0  Health Therapist  (987) 619-2695  B6V 3W3       MB  5020000000000230   \n",
       "\n",
       "    cc_exp cc_type  price(CAD) fav_color            ip weekday ampm  \\\n",
       "0  05/2018    Solo        8.36      Blue  126.23.139.2  Sunday   pm   \n",
       "\n",
       "         date  \n",
       "0  04/05/1930  "
      ]
     },
     "execution_count": 9,
     "metadata": {},
     "output_type": "execute_result"
    }
   ],
   "source": [
    "df.head(1)"
   ]
  },
  {
   "cell_type": "code",
   "execution_count": 38,
   "id": "5ea8a04b-6636-4af5-828c-1dd0c4979b42",
   "metadata": {},
   "outputs": [
    {
     "data": {
      "text/plain": [
       "prefix        87\n",
       "first         87\n",
       "last          87\n",
       "email         87\n",
       "gender        87\n",
       "age           87\n",
       "company       87\n",
       "profession    87\n",
       "phone         87\n",
       "postal        87\n",
       "province      87\n",
       "cc_no         87\n",
       "cc_exp        87\n",
       "cc_type       87\n",
       "price(CAD)    87\n",
       "fav_color     87\n",
       "ip            87\n",
       "weekday       87\n",
       "ampm          87\n",
       "date          87\n",
       "dtype: int64"
      ]
     },
     "execution_count": 38,
     "metadata": {},
     "output_type": "execute_result"
    }
   ],
   "source": [
    "df[df['profession'] == 'Structural Engineer'].count()"
   ]
  },
  {
   "cell_type": "code",
   "execution_count": 42,
   "id": "f4cbd0b6-2817-4337-8d4e-6cf97a255d92",
   "metadata": {},
   "outputs": [
    {
     "data": {
      "text/plain": [
       "prefix        43\n",
       "first         43\n",
       "last          43\n",
       "email         43\n",
       "gender        43\n",
       "age           43\n",
       "company       43\n",
       "profession    43\n",
       "phone         43\n",
       "postal        43\n",
       "province      43\n",
       "cc_no         43\n",
       "cc_exp        43\n",
       "cc_type       43\n",
       "price(CAD)    43\n",
       "fav_color     43\n",
       "ip            43\n",
       "weekday       43\n",
       "ampm          43\n",
       "date          43\n",
       "dtype: int64"
      ]
     },
     "execution_count": 42,
     "metadata": {},
     "output_type": "execute_result"
    }
   ],
   "source": [
    "df[(df['gender'] == 'Male') & (df['profession'] == 'Structural Engineer')].count()"
   ]
  },
  {
   "cell_type": "code",
   "execution_count": 44,
   "id": "add325d3-b2c3-4e87-b268-dbb7807d68d6",
   "metadata": {},
   "outputs": [
    {
     "data": {
      "text/plain": [
       "prefix        4\n",
       "first         4\n",
       "last          4\n",
       "email         4\n",
       "gender        4\n",
       "age           4\n",
       "company       4\n",
       "profession    4\n",
       "phone         4\n",
       "postal        4\n",
       "province      4\n",
       "cc_no         4\n",
       "cc_exp        4\n",
       "cc_type       4\n",
       "price(CAD)    4\n",
       "fav_color     4\n",
       "ip            4\n",
       "weekday       4\n",
       "ampm          4\n",
       "date          4\n",
       "dtype: int64"
      ]
     },
     "execution_count": 44,
     "metadata": {},
     "output_type": "execute_result"
    }
   ],
   "source": [
    "df[(df['gender']=='Female') & (df['profession']=='Structural Engineer') & (df['province']== 'AB')].count()\n"
   ]
  },
  {
   "cell_type": "code",
   "execution_count": 45,
   "id": "0b4c34aa-edf3-4544-91ce-ac94c9b50d28",
   "metadata": {},
   "outputs": [
    {
     "data": {
      "text/plain": [
       "Index(['prefix', 'first', 'last', 'email', 'gender', 'age', 'company',\n",
       "       'profession', 'phone', 'postal', 'province', 'cc_no', 'cc_exp',\n",
       "       'cc_type', 'price(CAD)', 'fav_color', 'ip', 'weekday', 'ampm', 'date'],\n",
       "      dtype='object')"
      ]
     },
     "execution_count": 45,
     "metadata": {},
     "output_type": "execute_result"
    }
   ],
   "source": [
    "df.columns"
   ]
  },
  {
   "cell_type": "code",
   "execution_count": 46,
   "id": "bb3e4979-bf35-4159-b224-f7cabc6352aa",
   "metadata": {},
   "outputs": [
    {
     "name": "stdout",
     "output_type": "stream",
     "text": [
      "Max. spending:   100.0\n",
      "Min. spending:   0.0\n",
      "Avg. spending:   49.990775\n"
     ]
    }
   ],
   "source": [
    "print(\"Max. spending:  \",df['price(CAD)'].max())\n",
    "print(\"Min. spending:  \",df['price(CAD)'].min())\n",
    "print(\"Avg. spending:  \",df['price(CAD)'].mean())"
   ]
  },
  {
   "cell_type": "code",
   "execution_count": 10,
   "id": "631aa3fc-b41f-4b02-8a4a-091886141e6c",
   "metadata": {},
   "outputs": [
    {
     "data": {
      "text/html": [
       "<div>\n",
       "<style scoped>\n",
       "    .dataframe tbody tr th:only-of-type {\n",
       "        vertical-align: middle;\n",
       "    }\n",
       "\n",
       "    .dataframe tbody tr th {\n",
       "        vertical-align: top;\n",
       "    }\n",
       "\n",
       "    .dataframe thead th {\n",
       "        text-align: right;\n",
       "    }\n",
       "</style>\n",
       "<table border=\"1\" class=\"dataframe\">\n",
       "  <thead>\n",
       "    <tr style=\"text-align: right;\">\n",
       "      <th></th>\n",
       "      <th>prefix</th>\n",
       "      <th>first</th>\n",
       "      <th>last</th>\n",
       "      <th>email</th>\n",
       "      <th>gender</th>\n",
       "      <th>age</th>\n",
       "      <th>company</th>\n",
       "      <th>profession</th>\n",
       "      <th>phone</th>\n",
       "      <th>postal</th>\n",
       "      <th>province</th>\n",
       "      <th>cc_no</th>\n",
       "      <th>cc_exp</th>\n",
       "      <th>cc_type</th>\n",
       "      <th>price(CAD)</th>\n",
       "      <th>fav_color</th>\n",
       "      <th>ip</th>\n",
       "      <th>weekday</th>\n",
       "      <th>ampm</th>\n",
       "      <th>date</th>\n",
       "    </tr>\n",
       "  </thead>\n",
       "  <tbody>\n",
       "    <tr>\n",
       "      <th>5320</th>\n",
       "      <td>Dr.</td>\n",
       "      <td>Bruce</td>\n",
       "      <td>Bryan</td>\n",
       "      <td>ru@pubuspuh.cl</td>\n",
       "      <td>Male</td>\n",
       "      <td>59</td>\n",
       "      <td>Wal-Mart Stores Inc</td>\n",
       "      <td>Engineer Technician</td>\n",
       "      <td>(709) 446-8317</td>\n",
       "      <td>H6H 3Y0</td>\n",
       "      <td>NU</td>\n",
       "      <td>201000000000000</td>\n",
       "      <td>04/2024</td>\n",
       "      <td>Bankcard</td>\n",
       "      <td>0.0</td>\n",
       "      <td>White</td>\n",
       "      <td>82.70.62.64</td>\n",
       "      <td>Wednesday</td>\n",
       "      <td>am</td>\n",
       "      <td>12/11/1900</td>\n",
       "    </tr>\n",
       "    <tr>\n",
       "      <th>10597</th>\n",
       "      <td>Mrs.</td>\n",
       "      <td>Flora</td>\n",
       "      <td>Clark</td>\n",
       "      <td>wad@me.com</td>\n",
       "      <td>Female</td>\n",
       "      <td>27</td>\n",
       "      <td>MetLife Inc.</td>\n",
       "      <td>Cruise Director</td>\n",
       "      <td>(775) 373-6590</td>\n",
       "      <td>B2U 8K6</td>\n",
       "      <td>NB</td>\n",
       "      <td>30100000000000</td>\n",
       "      <td>05/2020</td>\n",
       "      <td>Diners Club Carte Blanche</td>\n",
       "      <td>0.0</td>\n",
       "      <td>Red</td>\n",
       "      <td>231.156.15.63</td>\n",
       "      <td>Thursday</td>\n",
       "      <td>pm</td>\n",
       "      <td>08/22/1904</td>\n",
       "    </tr>\n",
       "  </tbody>\n",
       "</table>\n",
       "</div>"
      ],
      "text/plain": [
       "      prefix  first   last           email  gender  age              company  \\\n",
       "5320     Dr.  Bruce  Bryan  ru@pubuspuh.cl    Male   59  Wal-Mart Stores Inc   \n",
       "10597   Mrs.  Flora  Clark      wad@me.com  Female   27         MetLife Inc.   \n",
       "\n",
       "                profession           phone   postal province            cc_no  \\\n",
       "5320   Engineer Technician  (709) 446-8317  H6H 3Y0       NU  201000000000000   \n",
       "10597      Cruise Director  (775) 373-6590  B2U 8K6       NB   30100000000000   \n",
       "\n",
       "        cc_exp                    cc_type  price(CAD) fav_color  \\\n",
       "5320   04/2024                   Bankcard         0.0     White   \n",
       "10597  05/2020  Diners Club Carte Blanche         0.0       Red   \n",
       "\n",
       "                  ip    weekday ampm        date  \n",
       "5320     82.70.62.64  Wednesday   am  12/11/1900  \n",
       "10597  231.156.15.63   Thursday   pm  08/22/1904  "
      ]
     },
     "execution_count": 10,
     "metadata": {},
     "output_type": "execute_result"
    }
   ],
   "source": [
    "df[df['price(CAD)']==0.0]"
   ]
  },
  {
   "cell_type": "code",
   "execution_count": 48,
   "id": "4db27f43-0e75-4e88-8e39-499bb70ec67f",
   "metadata": {},
   "outputs": [
    {
     "data": {
      "text/html": [
       "<div>\n",
       "<style scoped>\n",
       "    .dataframe tbody tr th:only-of-type {\n",
       "        vertical-align: middle;\n",
       "    }\n",
       "\n",
       "    .dataframe tbody tr th {\n",
       "        vertical-align: top;\n",
       "    }\n",
       "\n",
       "    .dataframe thead th {\n",
       "        text-align: right;\n",
       "    }\n",
       "</style>\n",
       "<table border=\"1\" class=\"dataframe\">\n",
       "  <thead>\n",
       "    <tr style=\"text-align: right;\">\n",
       "      <th></th>\n",
       "      <th>prefix</th>\n",
       "      <th>first</th>\n",
       "      <th>last</th>\n",
       "      <th>email</th>\n",
       "      <th>gender</th>\n",
       "      <th>age</th>\n",
       "      <th>company</th>\n",
       "      <th>profession</th>\n",
       "      <th>phone</th>\n",
       "      <th>postal</th>\n",
       "      <th>province</th>\n",
       "      <th>cc_no</th>\n",
       "      <th>cc_exp</th>\n",
       "      <th>cc_type</th>\n",
       "      <th>price(CAD)</th>\n",
       "      <th>fav_color</th>\n",
       "      <th>ip</th>\n",
       "      <th>weekday</th>\n",
       "      <th>ampm</th>\n",
       "      <th>date</th>\n",
       "    </tr>\n",
       "  </thead>\n",
       "  <tbody>\n",
       "    <tr>\n",
       "      <th>76</th>\n",
       "      <td>Mrs.</td>\n",
       "      <td>Gregory</td>\n",
       "      <td>Brown</td>\n",
       "      <td>hav@jek.gs</td>\n",
       "      <td>Female</td>\n",
       "      <td>31</td>\n",
       "      <td>E*Trade Group, Inc.</td>\n",
       "      <td>Novelist</td>\n",
       "      <td>(625) 537-8923</td>\n",
       "      <td>X3S 4Q2</td>\n",
       "      <td>PE</td>\n",
       "      <td>6010000000000000</td>\n",
       "      <td>04/2018</td>\n",
       "      <td>Visa</td>\n",
       "      <td>100.0</td>\n",
       "      <td>Green</td>\n",
       "      <td>212.100.18.95</td>\n",
       "      <td>Monday</td>\n",
       "      <td>am</td>\n",
       "      <td>10/23/2063</td>\n",
       "    </tr>\n",
       "    <tr>\n",
       "      <th>21093</th>\n",
       "      <td>Mrs.</td>\n",
       "      <td>Cody</td>\n",
       "      <td>Christensen</td>\n",
       "      <td>get@jovu.ag</td>\n",
       "      <td>Male</td>\n",
       "      <td>28</td>\n",
       "      <td>National City Corp.</td>\n",
       "      <td>Hospital Administrator</td>\n",
       "      <td>(261) 737-3292</td>\n",
       "      <td>X0S 1O5</td>\n",
       "      <td>PE</td>\n",
       "      <td>201000000000000</td>\n",
       "      <td>03/2024</td>\n",
       "      <td>JCB</td>\n",
       "      <td>100.0</td>\n",
       "      <td>Green</td>\n",
       "      <td>168.48.19.165</td>\n",
       "      <td>Wednesday</td>\n",
       "      <td>pm</td>\n",
       "      <td>03/28/1955</td>\n",
       "    </tr>\n",
       "    <tr>\n",
       "      <th>24385</th>\n",
       "      <td>Miss</td>\n",
       "      <td>Lizzie</td>\n",
       "      <td>Dixon</td>\n",
       "      <td>goh@tuwjaz.gd</td>\n",
       "      <td>Female</td>\n",
       "      <td>38</td>\n",
       "      <td>FleetBoston Financial Co.</td>\n",
       "      <td>Compensation Analyst</td>\n",
       "      <td>(989) 239-1752</td>\n",
       "      <td>V8X 9V6</td>\n",
       "      <td>NB</td>\n",
       "      <td>6300000000000000</td>\n",
       "      <td>07/2019</td>\n",
       "      <td>Bankcard</td>\n",
       "      <td>100.0</td>\n",
       "      <td>Blue</td>\n",
       "      <td>140.87.99.78</td>\n",
       "      <td>Saturday</td>\n",
       "      <td>pm</td>\n",
       "      <td>03/03/1983</td>\n",
       "    </tr>\n",
       "  </tbody>\n",
       "</table>\n",
       "</div>"
      ],
      "text/plain": [
       "      prefix    first         last          email  gender  age  \\\n",
       "76      Mrs.  Gregory        Brown     hav@jek.gs  Female   31   \n",
       "21093   Mrs.     Cody  Christensen    get@jovu.ag    Male   28   \n",
       "24385   Miss   Lizzie        Dixon  goh@tuwjaz.gd  Female   38   \n",
       "\n",
       "                         company              profession           phone  \\\n",
       "76           E*Trade Group, Inc.                Novelist  (625) 537-8923   \n",
       "21093        National City Corp.  Hospital Administrator  (261) 737-3292   \n",
       "24385  FleetBoston Financial Co.    Compensation Analyst  (989) 239-1752   \n",
       "\n",
       "        postal province             cc_no   cc_exp   cc_type  price(CAD)  \\\n",
       "76     X3S 4Q2       PE  6010000000000000  04/2018      Visa       100.0   \n",
       "21093  X0S 1O5       PE   201000000000000  03/2024       JCB       100.0   \n",
       "24385  V8X 9V6       NB  6300000000000000  07/2019  Bankcard       100.0   \n",
       "\n",
       "      fav_color             ip    weekday ampm        date  \n",
       "76        Green  212.100.18.95     Monday   am  10/23/2063  \n",
       "21093     Green  168.48.19.165  Wednesday   pm  03/28/1955  \n",
       "24385      Blue   140.87.99.78   Saturday   pm  03/03/1983  "
      ]
     },
     "execution_count": 48,
     "metadata": {},
     "output_type": "execute_result"
    }
   ],
   "source": [
    "df[df['price(CAD)']==100]"
   ]
  },
  {
   "cell_type": "code",
   "execution_count": 49,
   "id": "c7b39116-4278-4cc4-a220-9047fcaf6998",
   "metadata": {},
   "outputs": [
    {
     "data": {
      "text/plain": [
       "0    sebvajom@kol.km\n",
       "1      acu@jatsot.ug\n",
       "Name: email, dtype: object"
      ]
     },
     "execution_count": 49,
     "metadata": {},
     "output_type": "execute_result"
    }
   ],
   "source": [
    "df[df['cc_no']==5020000000000230]['email']"
   ]
  },
  {
   "cell_type": "code",
   "execution_count": 50,
   "id": "80e6aa2c-cf60-45eb-8ba7-a854b1ff0eac",
   "metadata": {},
   "outputs": [
    {
     "data": {
      "text/plain": [
       "2684"
      ]
     },
     "execution_count": 50,
     "metadata": {},
     "output_type": "execute_result"
    }
   ],
   "source": [
    "df[df['cc_exp'].apply(lambda x: x[5:]) == '19'].count()['first']"
   ]
  },
  {
   "cell_type": "code",
   "execution_count": 51,
   "id": "110c003b-e572-4de3-b4a7-8af09d3ca25b",
   "metadata": {},
   "outputs": [
    {
     "data": {
      "text/plain": [
       "1721"
      ]
     },
     "execution_count": 51,
     "metadata": {},
     "output_type": "execute_result"
    }
   ],
   "source": [
    "df[df[\"cc_type\"]==\"Visa\"].count()['first']"
   ]
  },
  {
   "cell_type": "code",
   "execution_count": 52,
   "id": "792ea1e1-5cc8-4694-bf79-4501028f14ee",
   "metadata": {},
   "outputs": [
    {
     "data": {
      "text/plain": [
       "1721"
      ]
     },
     "execution_count": 52,
     "metadata": {},
     "output_type": "execute_result"
    }
   ],
   "source": [
    "df[df[\"cc_type\"]==\"Visa\"].count()['first']"
   ]
  },
  {
   "cell_type": "code",
   "execution_count": 53,
   "id": "6d97e90b-93a7-4037-a4f4-42589215a5c2",
   "metadata": {},
   "outputs": [
    {
     "data": {
      "text/plain": [
       "profession\n",
       "Preschool Teacher       112\n",
       "Distribution Manager    107\n",
       "Name: count, dtype: int64"
      ]
     },
     "execution_count": 53,
     "metadata": {},
     "output_type": "execute_result"
    }
   ],
   "source": [
    "df['profession'].value_counts().head(2)"
   ]
  },
  {
   "cell_type": "code",
   "execution_count": 12,
   "id": "4ec36779-5eb5-4566-8662-1d74d83598b4",
   "metadata": {},
   "outputs": [],
   "source": [
    "list1 = []\n",
    "for li in df['email']:\n",
    "    list1.append(li.split('@')[1])"
   ]
  },
  {
   "cell_type": "code",
   "execution_count": 13,
   "id": "cc07929f-e5b3-44cb-9fb3-27878f738bc6",
   "metadata": {},
   "outputs": [
    {
     "data": {
      "text/plain": [
       "new_email\n",
       "gmail.com      1687\n",
       "me.com         1676\n",
       "outlook.com    1664\n",
       "live.com       1660\n",
       "hotmail.com    1659\n",
       "Name: count, dtype: int64"
      ]
     },
     "execution_count": 13,
     "metadata": {},
     "output_type": "execute_result"
    }
   ],
   "source": [
    "df['new_email'] = list1\n",
    "df['new_email'].value_counts().head()\n"
   ]
  },
  {
   "cell_type": "code",
   "execution_count": 4,
   "id": "53d35f3a-ad0e-4cd2-a1ec-59eae4cc4f09",
   "metadata": {},
   "outputs": [
    {
     "data": {
      "text/plain": [
       "Index(['prefix', 'first', 'last', 'email', 'gender', 'age', 'company',\n",
       "       'profession', 'phone', 'postal', 'province', 'cc_no', 'cc_exp',\n",
       "       'cc_type', 'price(CAD)', 'fav_color', 'ip', 'weekday', 'ampm', 'date'],\n",
       "      dtype='object')"
      ]
     },
     "execution_count": 4,
     "metadata": {},
     "output_type": "execute_result"
    }
   ],
   "source": [
    "df.columns"
   ]
  },
  {
   "cell_type": "code",
   "execution_count": 17,
   "id": "950d7cc6-ca28-4779-a1c5-00a1d9362a06",
   "metadata": {},
   "outputs": [],
   "source": [
    "list2 = []\n",
    "for li in df['email']:\n",
    "    list2.append(li.split('@')[1])"
   ]
  },
  {
   "cell_type": "code",
   "execution_count": 20,
   "id": "5fdba0d2-b77e-4b63-948e-afd2f21be02f",
   "metadata": {},
   "outputs": [
    {
     "data": {
      "text/html": [
       "<div>\n",
       "<style scoped>\n",
       "    .dataframe tbody tr th:only-of-type {\n",
       "        vertical-align: middle;\n",
       "    }\n",
       "\n",
       "    .dataframe tbody tr th {\n",
       "        vertical-align: top;\n",
       "    }\n",
       "\n",
       "    .dataframe thead th {\n",
       "        text-align: right;\n",
       "    }\n",
       "</style>\n",
       "<table border=\"1\" class=\"dataframe\">\n",
       "  <thead>\n",
       "    <tr style=\"text-align: right;\">\n",
       "      <th></th>\n",
       "      <th>prefix</th>\n",
       "      <th>first</th>\n",
       "      <th>last</th>\n",
       "      <th>email</th>\n",
       "      <th>gender</th>\n",
       "      <th>age</th>\n",
       "      <th>company</th>\n",
       "      <th>profession</th>\n",
       "      <th>phone</th>\n",
       "      <th>postal</th>\n",
       "      <th>...</th>\n",
       "      <th>cc_exp</th>\n",
       "      <th>cc_type</th>\n",
       "      <th>price(CAD)</th>\n",
       "      <th>fav_color</th>\n",
       "      <th>ip</th>\n",
       "      <th>weekday</th>\n",
       "      <th>ampm</th>\n",
       "      <th>date</th>\n",
       "      <th>new_email</th>\n",
       "      <th>email_two</th>\n",
       "    </tr>\n",
       "  </thead>\n",
       "  <tbody>\n",
       "    <tr>\n",
       "      <th>150</th>\n",
       "      <td>Miss</td>\n",
       "      <td>Loretta</td>\n",
       "      <td>Fletcher</td>\n",
       "      <td>barit@am.edu</td>\n",
       "      <td>Female</td>\n",
       "      <td>48</td>\n",
       "      <td>York International Corp</td>\n",
       "      <td>Rehabilitation Counselor</td>\n",
       "      <td>(323) 279-8038</td>\n",
       "      <td>E5X 8L0</td>\n",
       "      <td>...</td>\n",
       "      <td>05/2021</td>\n",
       "      <td>Diners Club United States &amp; Canada</td>\n",
       "      <td>97.26</td>\n",
       "      <td>White</td>\n",
       "      <td>147.57.240.225</td>\n",
       "      <td>Monday</td>\n",
       "      <td>am</td>\n",
       "      <td>11/07/2066</td>\n",
       "      <td>am.edu</td>\n",
       "      <td>am.edu</td>\n",
       "    </tr>\n",
       "  </tbody>\n",
       "</table>\n",
       "<p>1 rows × 22 columns</p>\n",
       "</div>"
      ],
      "text/plain": [
       "    prefix    first      last         email  gender  age  \\\n",
       "150   Miss  Loretta  Fletcher  barit@am.edu  Female   48   \n",
       "\n",
       "                     company                profession           phone  \\\n",
       "150  York International Corp  Rehabilitation Counselor  (323) 279-8038   \n",
       "\n",
       "      postal  ...   cc_exp                             cc_type price(CAD)  \\\n",
       "150  E5X 8L0  ...  05/2021  Diners Club United States & Canada      97.26   \n",
       "\n",
       "    fav_color              ip weekday ampm        date new_email email_two  \n",
       "150     White  147.57.240.225  Monday   am  11/07/2066    am.edu    am.edu  \n",
       "\n",
       "[1 rows x 22 columns]"
      ]
     },
     "execution_count": 20,
     "metadata": {},
     "output_type": "execute_result"
    }
   ],
   "source": [
    "df['email_two'] = list2\n",
    "df[df['email_two'] == 'am.edu']"
   ]
  },
  {
   "cell_type": "code",
   "execution_count": 23,
   "id": "59c85b55-1145-4d6b-a27c-f80cac1cc510",
   "metadata": {},
   "outputs": [
    {
     "data": {
      "text/plain": [
       "weekday\n",
       "Saturday    4376\n",
       "Name: count, dtype: int64"
      ]
     },
     "execution_count": 23,
     "metadata": {},
     "output_type": "execute_result"
    }
   ],
   "source": [
    "df['weekday'].value_counts().head(1)"
   ]
  },
  {
   "cell_type": "code",
   "execution_count": null,
   "id": "0011bfff-b709-490e-b864-4d48f55021f0",
   "metadata": {},
   "outputs": [],
   "source": []
  }
 ],
 "metadata": {
  "kernelspec": {
   "display_name": "Python 3 (ipykernel)",
   "language": "python",
   "name": "python3"
  },
  "language_info": {
   "codemirror_mode": {
    "name": "ipython",
    "version": 3
   },
   "file_extension": ".py",
   "mimetype": "text/x-python",
   "name": "python",
   "nbconvert_exporter": "python",
   "pygments_lexer": "ipython3",
   "version": "3.10.4"
  }
 },
 "nbformat": 4,
 "nbformat_minor": 5
}
